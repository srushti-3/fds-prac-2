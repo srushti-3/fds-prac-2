{
 "cells": [
  {
   "cell_type": "code",
   "execution_count": 2,
   "id": "4a7a57c7",
   "metadata": {},
   "outputs": [
    {
     "name": "stdout",
     "output_type": "stream",
     "text": [
      "Enter no. of students: 5\n",
      "enter marks of student 1: 21\n",
      "enter marks of student 2: 22\n",
      "enter marks of student 3: 21\n",
      "enter marks of student 4: -1\n",
      "enter marks of student 5: 25\n",
      "\n",
      " [21, 22, 21, -1, 25]\n",
      "\n",
      "absent no. of students: 1\n",
      "\n",
      "sum of all the marks=: 89\n",
      "The average of the marks is 22.25\n",
      "\n",
      "Maximum marks are: 25\n",
      "Minimum marks are: 21\n",
      "( 21 2 )\n",
      "( 21 2 )\n"
     ]
    }
   ],
   "source": [
    "marks=[]\n",
    "\n",
    "n = int(input(\"Enter no. of students: \"))\n",
    "\n",
    "for i in range (n):\n",
    "    s = int(input(f\"enter marks of student {i+1}: \"))\n",
    "    marks.append(s)\n",
    "print(\"\\n\",marks)\n",
    "\n",
    "abs = marks.count(-1)\n",
    "print(\"\\nabsent no. of students:\",abs)\n",
    "\n",
    "\n",
    "k = n-abs\n",
    "\n",
    "def avg(marks):\n",
    "    d = 0\n",
    "    for i in range(n):\n",
    "        if marks[i]!=-1:\n",
    "            d += marks[i]\n",
    "    print(f\"\\nsum of all the marks=: {d}\")\n",
    "    print(f\"The average of the marks is {d/k}\")\n",
    "avg(marks)\n",
    "\n",
    "\n",
    "def maximum(marks):\n",
    "    maxm=0\n",
    "    for j in marks:\n",
    "        if j!=-1:\n",
    "            if j>maxm:\n",
    "                maxm=j\n",
    "    print(f\"\\nMaximum marks are: {maxm}\")\n",
    "maximum(marks)\n",
    "\n",
    "\n",
    "def minmarks():\n",
    "    minn = marks[0]\n",
    "    for i in marks:\n",
    "        if i!=-1:\n",
    "            if i<minn:\n",
    "                minn=i\n",
    "    print(f\"Minimum marks are: {minn}\")\n",
    "minmarks()\n",
    "\n",
    "def freq_marks():\n",
    "    for i in marks:\n",
    "        if i!=-1:\n",
    "            count=0\n",
    "            for j in marks:\n",
    "                if j==i:\n",
    "                    count+=1\n",
    "                    max = 0\n",
    "                    if count>1:\n",
    "                        \n",
    "                        print(\"(\",i,count,\")\")\n",
    "freq_marks()"
   ]
  }
 ],
 "metadata": {
  "kernelspec": {
   "display_name": "Python 3",
   "language": "python",
   "name": "python3"
  },
  "language_info": {
   "codemirror_mode": {
    "name": "ipython",
    "version": 3
   },
   "file_extension": ".py",
   "mimetype": "text/x-python",
   "name": "python",
   "nbconvert_exporter": "python",
   "pygments_lexer": "ipython3",
   "version": "3.8.8"
  }
 },
 "nbformat": 4,
 "nbformat_minor": 5
}
